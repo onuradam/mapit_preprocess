{
 "cells": [
  {
   "cell_type": "markdown",
   "id": "fc7a0656-4237-4210-94bd-64929d3f4b7e",
   "metadata": {},
   "source": [
    "# Aşama 1) Veri Temizliği ve Düzenleme"
   ]
  },
  {
   "cell_type": "code",
   "execution_count": 80,
   "id": "7d4b9891-78cc-454d-a27c-be41eed76a37",
   "metadata": {},
   "outputs": [],
   "source": [
    "import pandas as pd\n",
    "import re"
   ]
  },
  {
   "cell_type": "code",
   "execution_count": 231,
   "id": "bb8ade71-7b84-4111-b58f-450a20f89714",
   "metadata": {},
   "outputs": [],
   "source": [
    "df_magaza = pd.read_excel('Ek_1_MagazaVerileri.xlsx', sheet_name=\"Mağazalar\")"
   ]
  },
  {
   "cell_type": "code",
   "execution_count": 233,
   "id": "08d5dd03-3cee-4e49-8ef4-4fdb7068532c",
   "metadata": {},
   "outputs": [],
   "source": [
    "df_ortaklik_payi = pd.read_excel('Ek_1_MagazaVerileri.xlsx', sheet_name=\"Ortaklık Payı\")"
   ]
  },
  {
   "cell_type": "code",
   "execution_count": 235,
   "id": "1bff4666-1e45-4e91-baf1-e73c962f9b5e",
   "metadata": {},
   "outputs": [],
   "source": [
    "df_satis = pd.read_excel('Ek_1_MagazaVerileri.xlsx', sheet_name=\"Satış\")"
   ]
  },
  {
   "cell_type": "code",
   "execution_count": 237,
   "id": "2a2b2c00-5146-4fa5-9d66-637103e0c869",
   "metadata": {},
   "outputs": [
    {
     "name": "stdout",
     "output_type": "stream",
     "text": [
      "Magaza tablosunun büyüklüğü (100, 8), Ortaklık payı tablosunun büyüklüğü (200, 5), Satış tablosunun büyüklüğü (72000, 8)\n"
     ]
    }
   ],
   "source": [
    "print(f\"Magaza tablosunun büyüklüğü {df_magaza.shape}, Ortaklık payı tablosunun büyüklüğü {df_ortaklik_payi.shape}, Satış tablosunun büyüklüğü {df_satis.shape}\")"
   ]
  },
  {
   "cell_type": "code",
   "execution_count": 239,
   "id": "2d1fd6ba-6c15-4bb9-8e2e-9b397a0f8d24",
   "metadata": {},
   "outputs": [],
   "source": [
    "df_magaza.to_csv (\"magaza.csv\", sep=',') \n",
    "df_ortaklik_payi.to_csv(\"ortaklik_payi.csv\", sep=',')\n",
    "df_satis.to_csv('satis.csv', sep=',')"
   ]
  },
  {
   "cell_type": "code",
   "execution_count": 241,
   "id": "12ef547d-15ca-4f04-9e7d-24aaf0b1106b",
   "metadata": {},
   "outputs": [],
   "source": [
    "df_magaza_csv = pd.read_csv('magaza.csv')\n",
    "df_ortaklik_payi_csv = pd.read_csv('ortaklik_payi.csv')\n",
    "df_satis_csv = pd.read_csv('satis.csv')"
   ]
  },
  {
   "cell_type": "code",
   "execution_count": 243,
   "id": "3a8c4f4b-0def-44a7-bd3c-47a8a38eb422",
   "metadata": {},
   "outputs": [],
   "source": [
    "# 1. SK. ifadesinden önce boşluk ekleme\n",
    "pattern_sk = r'([A-Z0-9\\.]+)(SK\\.)'\n",
    "df_magaza_csv['Mağaza Adresi'] = df_magaza_csv['Mağaza Adresi'].apply(lambda x: re.sub(pattern_sk, r'\\1 \\2', x))\n",
    "\n",
    "# 2. no: ifadesinden sonra gelen rakam ile büyük harf arasına / ekleme\n",
    "pattern_no = r'(no:\\d+)\\s([A-Z])\\b'\n",
    "df_magaza_csv['Mağaza Adresi'] = df_magaza_csv['Mağaza Adresi'].apply(lambda x: re.sub(pattern_no, r'\\1/\\2', x))\n",
    "\n",
    "# 3. Son kelimeden önce \"/\" ekleme\n",
    "df_magaza_csv['Mağaza Adresi'] = df_magaza_csv['Mağaza Adresi'].apply(lambda x: x.strip())  # Baştaki ve sondaki boşlukları temizle\n",
    "df_magaza_csv['Mağaza Adresi'] = df_magaza_csv['Mağaza Adresi'].apply(lambda x: ' / '.join(x.rsplit(' ', 1)))  # Son kelimeden önce \"/\" ekle\n",
    "\n",
    "# 4. Fazladan boşlukları temizleme (opsiyonel)\n",
    "df_magaza_csv['Mağaza Adresi'] = df_magaza_csv['Mağaza Adresi'].apply(lambda x: re.sub(r'\\s+', ' ', x.strip()))"
   ]
  },
  {
   "cell_type": "code",
   "execution_count": 245,
   "id": "34e4edaa-08ed-42ad-b425-f348efaf96b0",
   "metadata": {},
   "outputs": [
    {
     "name": "stdout",
     "output_type": "stream",
     "text": [
      "BAGCILAR MH. 1207. SK. STAR PLAS OFFICE C-BLOK APT. no:1/C BAGLAR / DIYARBAKIR\n"
     ]
    }
   ],
   "source": [
    "print(df_magaza_csv['Mağaza Adresi'][0])"
   ]
  },
  {
   "cell_type": "code",
   "execution_count": 247,
   "id": "6426cbd5-27a1-4d2f-8f03-1adb20aa8638",
   "metadata": {},
   "outputs": [],
   "source": [
    "df_magaza_csv.to_csv (\"magaza.csv\", sep=',')"
   ]
  },
  {
   "cell_type": "code",
   "execution_count": 249,
   "id": "d120ce39-44cf-4cac-911f-9a5f6326978f",
   "metadata": {},
   "outputs": [
    {
     "data": {
      "text/plain": [
       "Index(['Unnamed: 0', 'Mağaza Kodu', 'Mağaza İsmi', 'Mağaza Tipi',\n",
       "       'Personel Sayısı', 'Açılış Tarihi', 'Güncel Aylık Kira (TL)',\n",
       "       'Mağaza Alanı (m2)', 'Mağaza Adresi'],\n",
       "      dtype='object')"
      ]
     },
     "execution_count": 249,
     "metadata": {},
     "output_type": "execute_result"
    }
   ],
   "source": [
    "df_magaza_csv.columns"
   ]
  },
  {
   "cell_type": "markdown",
   "id": "538b5a9b-11b6-4270-8142-24081f16f3fd",
   "metadata": {},
   "source": [
    "# Aşama 2) Veriyi PostgreSQL Veritabanına Kaydetme"
   ]
  },
  {
   "cell_type": "code",
   "execution_count": null,
   "id": "d8bd2500-ecd7-43f0-8a93-f48de26804e2",
   "metadata": {},
   "outputs": [],
   "source": [
    "#1 Mağaza tablosunu PostgreSQL veritabanı içerisine alma"
   ]
  },
  {
   "cell_type": "code",
   "execution_count": 290,
   "id": "ed1bacc1-6d63-4787-8e81-aa4343c9e74e",
   "metadata": {},
   "outputs": [],
   "source": [
    "from sqlalchemy import create_engine\n",
    "import pandas as pd\n",
    "import psycopg2"
   ]
  },
  {
   "cell_type": "code",
   "execution_count": 284,
   "id": "cf983bb7-a27f-40c3-b993-664124c65345",
   "metadata": {},
   "outputs": [],
   "source": [
    "df = pd.read_csv('magaza.csv', index_col=0)"
   ]
  },
  {
   "cell_type": "code",
   "execution_count": 292,
   "id": "47a53377-c95d-40a9-ad09-5cc11c796a5d",
   "metadata": {},
   "outputs": [],
   "source": [
    "conn = psycopg2.connect(\n",
    "    dbname=\"mapit\",\n",
    "    user=\"postgres\",\n",
    "    password=\"password\",\n",
    "    host=\"localhost\",\n",
    "    port=\"5432\"\n",
    ")\n",
    "\n",
    "# Verileri PostgreSQL'e aktar\n",
    "cursor = conn.cursor()\n",
    "for index, row in df.iterrows():\n",
    "    cursor.execute(\n",
    "        \"\"\"\n",
    "        INSERT INTO magaza (\"Mağaza Kodu\", \"Mağaza İsmi\", \"Mağaza Tipi\", \"Personel Sayısı\", \"Açılış Tarihi\", \"Güncel Aylık Kira (TL)\", \"Mağaza Alanı (m2)\", \"Mağaza Adresi\")\n",
    "        VALUES (%s, %s, %s, %s, %s, %s, %s, %s)\n",
    "        \"\"\",\n",
    "        (row[\"Mağaza Kodu\"], row[\"Mağaza İsmi\"], row[\"Mağaza Tipi\"], row[\"Personel Sayısı\"], row[\"Açılış Tarihi\"], row[\"Güncel Aylık Kira (TL)\"], row[\"Mağaza Alanı (m2)\"], row[\"Mağaza Adresi\"])\n",
    "    )\n",
    "conn.commit()\n",
    "cursor.close()\n",
    "conn.close()"
   ]
  },
  {
   "cell_type": "code",
   "execution_count": 294,
   "id": "65c8853a-7a14-41eb-bdef-42871ee8f7de",
   "metadata": {},
   "outputs": [],
   "source": [
    "#2 Ortaklık payı ve satış tablolarını PostgreSQL veritabanına alma"
   ]
  },
  {
   "cell_type": "code",
   "execution_count": 318,
   "id": "a08ebd4b-c52e-4452-91f4-39be282312ff",
   "metadata": {},
   "outputs": [],
   "source": [
    "# CSV dosyasını oku\n",
    "df = pd.read_csv('ortaklik_payi.csv')\n",
    "\n",
    "conn = psycopg2.connect(\n",
    "    dbname=\"mapit\",\n",
    "    user=\"postgres\",\n",
    "    password=\"password\",\n",
    "    host=\"localhost\",\n",
    "    port=\"5432\"\n",
    ")\n",
    "\n",
    "cursor = conn.cursor()\n",
    "for index, row in df.iterrows():\n",
    "    cursor.execute(\n",
    "        \"\"\"\n",
    "        INSERT INTO ortaklik_payi (\"magaza_kodu\", \"magaza_ismi\", \"ortak_id\", \"ortak_adi_soyadi\", \"ortaklik_payi\")\n",
    "        VALUES (%s, %s, %s, %s, %s)\n",
    "        \"\"\",\n",
    "        (row[\"Mağaza Kodu\"], row[\"Mağaza İsmi\"], row[\"Ortak ID\"], row[\"Ortak Adı Soyadı\"], row[\"Ortalık Payı (%)\"])\n",
    "    )\n",
    "conn.commit()\n",
    "cursor.close()\n",
    "conn.close()"
   ]
  },
  {
   "cell_type": "code",
   "execution_count": 322,
   "id": "328f1d19-a636-4ce8-9578-b9b5da34fce0",
   "metadata": {},
   "outputs": [],
   "source": [
    "df = pd.read_csv('satis.csv')\n",
    "df.columns = ['id', 'magaza_kodu', 'urun_adi', 'urun_cesidi', 'urun_segmenti', 'adet', 'satis_tutari_tl', 'yil', 'ay']\n",
    "\n",
    "import psycopg2\n",
    "from psycopg2 import OperationalError\n",
    "\n",
    "try:\n",
    "    # PostgreSQL bağlantısı oluştur\n",
    "    conn = psycopg2.connect(\n",
    "        dbname=\"mapit\",\n",
    "        user=\"postgres\",\n",
    "        password=\"password\",\n",
    "        host=\"localhost\",\n",
    "        port=\"5432\"\n",
    "    )\n",
    "    cursor = conn.cursor()\n",
    "\n",
    "    # Verileri ekle\n",
    "    for index, row in df.iterrows():\n",
    "        cursor.execute(\n",
    "            \"\"\"\n",
    "            INSERT INTO satis (magaza_kodu, urun_adi, urun_cesidi, urun_segmenti, adet, satis_tutari_tl, yil, ay)\n",
    "            VALUES (%s, %s, %s, %s, %s, %s, %s, %s)\n",
    "            \"\"\",\n",
    "            (row[\"magaza_kodu\"], row[\"urun_adi\"], row[\"urun_cesidi\"], row[\"urun_segmenti\"], \n",
    "             row[\"adet\"], row[\"satis_tutari_tl\"], row[\"yil\"], row[\"ay\"])\n",
    "        )\n",
    "    conn.commit()\n",
    "\n",
    "except OperationalError as e:\n",
    "    print(f\"Bağlantı hatası: {e}\")\n",
    "\n",
    "finally:\n",
    "    # Bağlantıyı kapat\n",
    "    if conn:\n",
    "        cursor.close()\n",
    "        conn.close()"
   ]
  },
  {
   "cell_type": "code",
   "execution_count": 327,
   "id": "95bfa61a-cef6-4ef2-a4d2-2c4c3fa34902",
   "metadata": {},
   "outputs": [],
   "source": [
    "#Tablo sütunlarını TR karakter yapma"
   ]
  },
  {
   "cell_type": "code",
   "execution_count": 335,
   "id": "963f49c5-5ab8-4515-b6e9-7c15f7077eb7",
   "metadata": {},
   "outputs": [
    {
     "name": "stderr",
     "output_type": "stream",
     "text": [
      "C:\\Users\\onurc\\AppData\\Local\\Temp\\ipykernel_19288\\594545847.py:15: UserWarning: pandas only supports SQLAlchemy connectable (engine/connection) or database string URI or sqlite3 DBAPI2 connection. Other DBAPI2 objects are not tested. Please consider using SQLAlchemy.\n",
      "  df = pd.read_sql(query, conn)\n"
     ]
    }
   ],
   "source": [
    "import psycopg2\n",
    "import pandas as pd\n",
    "\n",
    "# PostgreSQL bağlantısı oluştur\n",
    "conn = psycopg2.connect(\n",
    "    dbname=\"mapit\",\n",
    "    user=\"postgres\",\n",
    "    password=\"password\",\n",
    "    host=\"localhost\",\n",
    "    port=\"5432\"\n",
    ")\n",
    "\n",
    "# Verileri çek\n",
    "query = \"SELECT * FROM magaza\"\n",
    "df = pd.read_sql(query, conn)\n",
    "\n",
    "# CSV dosyasına kaydet\n",
    "df.to_csv('C:/Users/onurc/Mapit/magaza_cleaned.csv', index=False, encoding='utf-8')\n",
    "\n",
    "# Bağlantıyı kapat\n",
    "conn.close()"
   ]
  },
  {
   "cell_type": "code",
   "execution_count": 337,
   "id": "95e7d3f5-c805-4b7f-9d97-554a04b39a8a",
   "metadata": {},
   "outputs": [
    {
     "name": "stderr",
     "output_type": "stream",
     "text": [
      "C:\\Users\\onurc\\AppData\\Local\\Temp\\ipykernel_19288\\3634405344.py:15: UserWarning: pandas only supports SQLAlchemy connectable (engine/connection) or database string URI or sqlite3 DBAPI2 connection. Other DBAPI2 objects are not tested. Please consider using SQLAlchemy.\n",
      "  df = pd.read_sql(query, conn)\n"
     ]
    }
   ],
   "source": [
    "import psycopg2\n",
    "import pandas as pd\n",
    "\n",
    "# PostgreSQL bağlantısı oluştur\n",
    "conn = psycopg2.connect(\n",
    "    dbname=\"mapit\",\n",
    "    user=\"postgres\",\n",
    "    password=\"password\",\n",
    "    host=\"localhost\",\n",
    "    port=\"5432\"\n",
    ")\n",
    "\n",
    "# Verileri çek\n",
    "query = \"SELECT * FROM ortaklik_payi\"\n",
    "df = pd.read_sql(query, conn)\n",
    "\n",
    "# CSV dosyasına kaydet\n",
    "df.to_csv('C:/Users/onurc/Mapit/ortaklik_payi_cleaned.csv', index=False, encoding='utf-8')\n",
    "\n",
    "# Bağlantıyı kapat\n",
    "conn.close()"
   ]
  },
  {
   "cell_type": "code",
   "execution_count": 339,
   "id": "7f2deff9-cd4c-4399-b730-97942223e891",
   "metadata": {},
   "outputs": [
    {
     "name": "stderr",
     "output_type": "stream",
     "text": [
      "C:\\Users\\onurc\\AppData\\Local\\Temp\\ipykernel_19288\\3921739095.py:15: UserWarning: pandas only supports SQLAlchemy connectable (engine/connection) or database string URI or sqlite3 DBAPI2 connection. Other DBAPI2 objects are not tested. Please consider using SQLAlchemy.\n",
      "  df = pd.read_sql(query, conn)\n"
     ]
    }
   ],
   "source": [
    "import psycopg2\n",
    "import pandas as pd\n",
    "\n",
    "# PostgreSQL bağlantısı oluştur\n",
    "conn = psycopg2.connect(\n",
    "    dbname=\"mapit\",\n",
    "    user=\"postgres\",\n",
    "    password=\"password\",\n",
    "    host=\"localhost\",\n",
    "    port=\"5432\"\n",
    ")\n",
    "\n",
    "# Verileri çek\n",
    "query = \"SELECT * FROM satis\"\n",
    "df = pd.read_sql(query, conn)\n",
    "\n",
    "# CSV dosyasına kaydet\n",
    "df.to_csv('C:/Users/onurc/Mapit/satis_cleaned.csv', index=False, encoding='utf-8')\n",
    "\n",
    "# Bağlantıyı kapat\n",
    "conn.close()"
   ]
  },
  {
   "cell_type": "code",
   "execution_count": 341,
   "id": "d8997069-6ab7-4c23-9735-131cfb4981ef",
   "metadata": {},
   "outputs": [],
   "source": [
    "df = pd.read_csv('magaza_cleaned.csv')"
   ]
  },
  {
   "cell_type": "code",
   "execution_count": 347,
   "id": "1e13ab28-f65e-4e37-a8df-2ee64832f0de",
   "metadata": {},
   "outputs": [],
   "source": [
    "import re\n",
    "\n",
    "def adresi_ayir(adres):\n",
    "    # Bina numarasını bul\n",
    "    bina_no = re.search(r'no:\\s*\\S+', adres)\n",
    "    bina_no = bina_no.group(0) if bina_no else None\n",
    "\n",
    "    # Sokak bilgisini bul\n",
    "    sokak = re.search(r'\\d+\\.\\s*SK\\.', adres)\n",
    "    sokak = sokak.group(0) if sokak else None\n",
    "\n",
    "    # Mahalle bilgisini bul\n",
    "    mahalle = re.search(r'[A-ZÇĞİÖŞÜ]+ MH\\.', adres)\n",
    "    mahalle = mahalle.group(0) if mahalle else None\n",
    "\n",
    "    # İlçe ve il bilgisini bul\n",
    "    ilce_il = re.split(r'\\s*/\\s*', adres)\n",
    "    ilce = ilce_il[-2].strip() if len(ilce_il) > 1 else None\n",
    "    il = ilce_il[-1].strip() if len(ilce_il) > 1 else None\n",
    "\n",
    "    return pd.Series({\n",
    "        \"bina_no\": bina_no,\n",
    "        \"sokak\": sokak,\n",
    "        \"mahalle\": mahalle,\n",
    "        \"ilce\": ilce,\n",
    "        \"il\": il\n",
    "    })"
   ]
  },
  {
   "cell_type": "code",
   "execution_count": 351,
   "id": "df1deb1f-a36f-470f-920c-06f0286eb40a",
   "metadata": {},
   "outputs": [
    {
     "data": {
      "text/html": [
       "<div>\n",
       "<style scoped>\n",
       "    .dataframe tbody tr th:only-of-type {\n",
       "        vertical-align: middle;\n",
       "    }\n",
       "\n",
       "    .dataframe tbody tr th {\n",
       "        vertical-align: top;\n",
       "    }\n",
       "\n",
       "    .dataframe thead th {\n",
       "        text-align: right;\n",
       "    }\n",
       "</style>\n",
       "<table border=\"1\" class=\"dataframe\">\n",
       "  <thead>\n",
       "    <tr style=\"text-align: right;\">\n",
       "      <th></th>\n",
       "      <th>magaza_kodu</th>\n",
       "      <th>magaza_ismi</th>\n",
       "      <th>magaza_tipi</th>\n",
       "      <th>personel_sayisi</th>\n",
       "      <th>acilis_tarihi</th>\n",
       "      <th>guncel_aylik_kira_tl</th>\n",
       "      <th>magaza_alani_m2</th>\n",
       "      <th>magaza_adresi</th>\n",
       "      <th>bina_no</th>\n",
       "      <th>sokak</th>\n",
       "      <th>mahalle</th>\n",
       "      <th>ilce</th>\n",
       "      <th>il</th>\n",
       "    </tr>\n",
       "  </thead>\n",
       "  <tbody>\n",
       "    <tr>\n",
       "      <th>0</th>\n",
       "      <td>101</td>\n",
       "      <td>M101</td>\n",
       "      <td>Tip 2</td>\n",
       "      <td>8</td>\n",
       "      <td>2004-05-15</td>\n",
       "      <td>37088.0</td>\n",
       "      <td>976.0</td>\n",
       "      <td>BAGCILAR MH. 1207. SK. STAR PLAS OFFICE C-BLOK...</td>\n",
       "      <td>no:1/C</td>\n",
       "      <td>1207. SK.</td>\n",
       "      <td>BAGCILAR MH.</td>\n",
       "      <td>C BAGLAR</td>\n",
       "      <td>DIYARBAKIR</td>\n",
       "    </tr>\n",
       "    <tr>\n",
       "      <th>1</th>\n",
       "      <td>102</td>\n",
       "      <td>M102</td>\n",
       "      <td>Tip 4</td>\n",
       "      <td>18</td>\n",
       "      <td>2005-12-23</td>\n",
       "      <td>57474.0</td>\n",
       "      <td>1854.0</td>\n",
       "      <td>BAGLARBASI MH. ATATÜRK SK. TELESERVICE APT. no...</td>\n",
       "      <td>no:134</td>\n",
       "      <td>None</td>\n",
       "      <td>BAGLARBASI MH.</td>\n",
       "      <td>BAGLARBASI MH. ATATÜRK SK. TELESERVICE APT. no...</td>\n",
       "      <td>ISTANBUL</td>\n",
       "    </tr>\n",
       "    <tr>\n",
       "      <th>2</th>\n",
       "      <td>103</td>\n",
       "      <td>M103</td>\n",
       "      <td>Tip 2</td>\n",
       "      <td>11</td>\n",
       "      <td>2013-05-28</td>\n",
       "      <td>58960.0</td>\n",
       "      <td>1474.0</td>\n",
       "      <td>AYDINEVLER MH. SITELER YOLU SK. HILLTOWN AVM A...</td>\n",
       "      <td>no:1</td>\n",
       "      <td>None</td>\n",
       "      <td>AYDINEVLER MH.</td>\n",
       "      <td>AYDINEVLER MH. SITELER YOLU SK. HILLTOWN AVM A...</td>\n",
       "      <td>ISTANBUL</td>\n",
       "    </tr>\n",
       "    <tr>\n",
       "      <th>3</th>\n",
       "      <td>104</td>\n",
       "      <td>M104</td>\n",
       "      <td>Tip 7</td>\n",
       "      <td>12</td>\n",
       "      <td>2011-11-25</td>\n",
       "      <td>52836.0</td>\n",
       "      <td>1428.0</td>\n",
       "      <td>AYDINEVLER MH. SITELER YOLU SK. no:1/A MALTEPE...</td>\n",
       "      <td>no:1/A</td>\n",
       "      <td>None</td>\n",
       "      <td>AYDINEVLER MH.</td>\n",
       "      <td>A MALTEPE</td>\n",
       "      <td>ISTANBUL</td>\n",
       "    </tr>\n",
       "    <tr>\n",
       "      <th>4</th>\n",
       "      <td>105</td>\n",
       "      <td>M105</td>\n",
       "      <td>Tip 6</td>\n",
       "      <td>11</td>\n",
       "      <td>2018-02-14</td>\n",
       "      <td>39468.0</td>\n",
       "      <td>1012.0</td>\n",
       "      <td>KONACIK MH. CEVAHIR SK. B APT. no:9/B BODRUM /...</td>\n",
       "      <td>no:9/B</td>\n",
       "      <td>None</td>\n",
       "      <td>KONACIK MH.</td>\n",
       "      <td>B BODRUM</td>\n",
       "      <td>MUGLA</td>\n",
       "    </tr>\n",
       "  </tbody>\n",
       "</table>\n",
       "</div>"
      ],
      "text/plain": [
       "   magaza_kodu magaza_ismi magaza_tipi  personel_sayisi acilis_tarihi  \\\n",
       "0          101        M101       Tip 2                8    2004-05-15   \n",
       "1          102        M102       Tip 4               18    2005-12-23   \n",
       "2          103        M103       Tip 2               11    2013-05-28   \n",
       "3          104        M104       Tip 7               12    2011-11-25   \n",
       "4          105        M105       Tip 6               11    2018-02-14   \n",
       "\n",
       "   guncel_aylik_kira_tl  magaza_alani_m2  \\\n",
       "0               37088.0            976.0   \n",
       "1               57474.0           1854.0   \n",
       "2               58960.0           1474.0   \n",
       "3               52836.0           1428.0   \n",
       "4               39468.0           1012.0   \n",
       "\n",
       "                                       magaza_adresi bina_no      sokak  \\\n",
       "0  BAGCILAR MH. 1207. SK. STAR PLAS OFFICE C-BLOK...  no:1/C  1207. SK.   \n",
       "1  BAGLARBASI MH. ATATÜRK SK. TELESERVICE APT. no...  no:134       None   \n",
       "2  AYDINEVLER MH. SITELER YOLU SK. HILLTOWN AVM A...    no:1       None   \n",
       "3  AYDINEVLER MH. SITELER YOLU SK. no:1/A MALTEPE...  no:1/A       None   \n",
       "4  KONACIK MH. CEVAHIR SK. B APT. no:9/B BODRUM /...  no:9/B       None   \n",
       "\n",
       "          mahalle                                               ilce  \\\n",
       "0    BAGCILAR MH.                                           C BAGLAR   \n",
       "1  BAGLARBASI MH.  BAGLARBASI MH. ATATÜRK SK. TELESERVICE APT. no...   \n",
       "2  AYDINEVLER MH.  AYDINEVLER MH. SITELER YOLU SK. HILLTOWN AVM A...   \n",
       "3  AYDINEVLER MH.                                          A MALTEPE   \n",
       "4     KONACIK MH.                                           B BODRUM   \n",
       "\n",
       "           il  \n",
       "0  DIYARBAKIR  \n",
       "1    ISTANBUL  \n",
       "2    ISTANBUL  \n",
       "3    ISTANBUL  \n",
       "4       MUGLA  "
      ]
     },
     "execution_count": 351,
     "metadata": {},
     "output_type": "execute_result"
    }
   ],
   "source": [
    "# Adresleri ayrıştır ve yeni sütunlar olarak ekle\n",
    "df[['bina_no', 'sokak', 'mahalle', 'ilce', 'il']] = df['magaza_adresi'].apply(adresi_ayir)\n",
    "\n",
    "# İlk 5 satırı göster\n",
    "df.head()"
   ]
  },
  {
   "cell_type": "markdown",
   "id": "a759ddb4-ef70-48ff-937a-e6423145877d",
   "metadata": {},
   "source": [
    "# 3) Veri Tiplerinin Kontrolü ve Dönüşümü"
   ]
  },
  {
   "cell_type": "code",
   "execution_count": 426,
   "id": "90e82942-97f2-4231-b43d-ccbfa8c6d618",
   "metadata": {},
   "outputs": [
    {
     "name": "stdout",
     "output_type": "stream",
     "text": [
      "0    101\n",
      "1    101\n",
      "2    101\n",
      "3    101\n",
      "4    101\n",
      "Name: magaza_kodu, dtype: object\n"
     ]
    }
   ],
   "source": [
    "import pandas as pd\n",
    "\n",
    "# Satış tablosunu oku\n",
    "df_satis = pd.read_csv(\"satis_cleaned.csv\")\n",
    "\n",
    "# magaza_kodu sütunundaki \"M\" harfini kaldır\n",
    "df_satis['magaza_kodu'] = df_satis['magaza_kodu'].str.replace('M', '', regex=False)\n",
    "\n",
    "# Sonucu kontrol et\n",
    "print(df_satis['magaza_kodu'].head())"
   ]
  },
  {
   "cell_type": "code",
   "execution_count": 428,
   "id": "5c8871d7-b789-465c-93fb-a1cfb990a734",
   "metadata": {},
   "outputs": [
    {
     "name": "stdout",
     "output_type": "stream",
     "text": [
      "int64\n",
      "0    101\n",
      "1    101\n",
      "2    101\n",
      "3    101\n",
      "4    101\n",
      "Name: magaza_kodu, dtype: int64\n"
     ]
    }
   ],
   "source": [
    "# magaza_kodu sütununu int'e dönüştür\n",
    "df_satis['magaza_kodu'] = df_satis['magaza_kodu'].astype(int)\n",
    "\n",
    "# Sonucu kontrol et\n",
    "print(df_satis['magaza_kodu'].dtype)\n",
    "print(df_satis['magaza_kodu'].head())"
   ]
  },
  {
   "cell_type": "code",
   "execution_count": 430,
   "id": "8360e28d-ccde-40e7-ba35-9126bf442972",
   "metadata": {},
   "outputs": [
    {
     "name": "stdout",
     "output_type": "stream",
     "text": [
      "Güncellenmiş tablo 'satis_cleaned_numeric_magaza_kodu.csv' dosyasına kaydedildi.\n"
     ]
    }
   ],
   "source": [
    "# Yeni CSV dosyasına kaydet\n",
    "df_satis.to_csv('satis_cleaned_string.csv', index=False, encoding='utf-8')\n",
    "\n",
    "print(\"Güncellenmiş tablo 'satis_cleaned_numeric_magaza_kodu.csv' dosyasına kaydedildi.\")"
   ]
  },
  {
   "cell_type": "code",
   "execution_count": 434,
   "id": "ce5e659e-2fba-4fa7-a25b-8a472147f9e3",
   "metadata": {},
   "outputs": [
    {
     "name": "stdout",
     "output_type": "stream",
     "text": [
      "CSV dosyası PostgreSQL tablosuna aktarıldı.\n"
     ]
    }
   ],
   "source": [
    "import psycopg2\n",
    "import pandas as pd\n",
    "from psycopg2 import sql\n",
    "\n",
    "# CSV dosyasını oku\n",
    "df = pd.read_csv(\"magaza_cleaned_string.csv\")\n",
    "\n",
    "# PostgreSQL bağlantısı oluştur\n",
    "conn = psycopg2.connect(\n",
    "    dbname=\"mapit\",\n",
    "    user=\"postgres\",\n",
    "    password=\"password\",\n",
    "    host=\"localhost\",\n",
    "    port=\"5432\"\n",
    ")\n",
    "cursor = conn.cursor()\n",
    "\n",
    "# Tabloyu oluştur (eğer daha önce oluşturulmadıysa)\n",
    "create_table_query = \"\"\"\n",
    "CREATE TABLE IF NOT EXISTS magaza (\n",
    "    magaza_kodu INT PRIMARY KEY,\n",
    "    magaza_ismi TEXT,\n",
    "    magaza_tipi TEXT,\n",
    "    personel_sayisi INT,\n",
    "    acilis_tarihi DATE,\n",
    "    guncel_aylik_kira_tl FLOAT,\n",
    "    magaza_alani_m2 FLOAT,\n",
    "    magaza_adresi TEXT\n",
    ");\n",
    "\"\"\"\n",
    "cursor.execute(create_table_query)\n",
    "conn.commit()\n",
    "\n",
    "# Verileri tabloya ekle\n",
    "for index, row in df.iterrows():\n",
    "    insert_query = sql.SQL(\"\"\"\n",
    "    INSERT INTO magaza (magaza_kodu, magaza_ismi, magaza_tipi, personel_sayisi, acilis_tarihi, guncel_aylik_kira_tl, magaza_alani_m2, magaza_adresi)\n",
    "    VALUES (%s, %s, %s, %s, %s, %s, %s, %s)\n",
    "    \"\"\")\n",
    "    cursor.execute(insert_query, (\n",
    "        row['magaza_kodu'], row['magaza_ismi'], row['magaza_tipi'], row['personel_sayisi'],\n",
    "        row['acilis_tarihi'], row['guncel_aylik_kira_tl'], row['magaza_alani_m2'], row['magaza_adresi']\n",
    "    ))\n",
    "\n",
    "# Değişiklikleri kaydet ve bağlantıyı kapat\n",
    "conn.commit()\n",
    "cursor.close()\n",
    "conn.close()\n",
    "\n",
    "print(\"CSV dosyası PostgreSQL tablosuna aktarıldı.\")"
   ]
  },
  {
   "cell_type": "code",
   "execution_count": 444,
   "id": "f2567d16-aac9-4050-9bcf-ab1e69f720b0",
   "metadata": {},
   "outputs": [
    {
     "name": "stdout",
     "output_type": "stream",
     "text": [
      "Ortaklık Payı tablosu PostgreSQL'e aktarıldı.\n"
     ]
    }
   ],
   "source": [
    "import psycopg2\n",
    "import pandas as pd\n",
    "from psycopg2 import sql\n",
    "\n",
    "# CSV dosyasını oku\n",
    "df = pd.read_csv(\"ortaklik_payi_cleaned_string.csv\")\n",
    "\n",
    "# Sütun isimlerini kontrol et ve gerekirse güncelle\n",
    "df.columns = ['magaza_kodu', 'magaza_ismi', 'ortak_id', 'ortak_adi_soyadi', 'ortaklik_payi', 'id']\n",
    "\n",
    "# PostgreSQL bağlantısı oluştur\n",
    "conn = psycopg2.connect(\n",
    "    dbname=\"mapit\",\n",
    "    user=\"postgres\",\n",
    "    password=\"password\",\n",
    "    host=\"localhost\",\n",
    "    port=\"5432\"\n",
    ")\n",
    "cursor = conn.cursor()\n",
    "\n",
    "# Tabloyu oluştur (eğer daha önce oluşturulmadıysa)\n",
    "create_table_query = \"\"\"\n",
    "CREATE TABLE IF NOT EXISTS ortaklik_payi (\n",
    "    magaza_kodu INT,\n",
    "    magaza_ismi TEXT,\n",
    "    ortak_id INT,\n",
    "    ortak_adi_soyadi TEXT,\n",
    "    ortaklik_payi FLOAT,\n",
    "    id INT PRIMARY KEY\n",
    ");\n",
    "\"\"\"\n",
    "cursor.execute(create_table_query)\n",
    "conn.commit()\n",
    "\n",
    "# Verileri tabloya ekle\n",
    "for index, row in df.iterrows():\n",
    "    insert_query = sql.SQL(\"\"\"\n",
    "    INSERT INTO ortaklik_payi (magaza_kodu, magaza_ismi, ortak_id, ortak_adi_soyadi, ortaklik_payi, id)\n",
    "    VALUES (%s, %s, %s, %s, %s, %s)\n",
    "    \"\"\")\n",
    "    cursor.execute(insert_query, (\n",
    "        row['magaza_kodu'], row['magaza_ismi'], row['ortak_id'], row['ortak_adi_soyadi'], row['ortaklik_payi'], row['id']\n",
    "    ))\n",
    "\n",
    "# Değişiklikleri kaydet ve bağlantıyı kapat\n",
    "conn.commit()\n",
    "cursor.close()\n",
    "conn.close()\n",
    "\n",
    "print(\"Ortaklık Payı tablosu PostgreSQL'e aktarıldı.\")"
   ]
  },
  {
   "cell_type": "code",
   "execution_count": 442,
   "id": "9bad2b8c-b7b1-442c-ac99-ac1809081a0b",
   "metadata": {},
   "outputs": [
    {
     "name": "stdout",
     "output_type": "stream",
     "text": [
      "Satış tablosu PostgreSQL'e aktarıldı.\n"
     ]
    }
   ],
   "source": [
    "import psycopg2\n",
    "import pandas as pd\n",
    "from psycopg2 import sql\n",
    "\n",
    "# CSV dosyasını oku\n",
    "df = pd.read_csv(\"satis_cleaned_string.csv\")\n",
    "\n",
    "# Sütun isimlerini kontrol et ve gerekirse güncelle\n",
    "df.columns = ['id', 'magaza_kodu', 'urun_adi', 'urun_cesidi', 'urun_segmenti', 'adet', 'satis_tutari_tl', 'yil', 'ay']\n",
    "\n",
    "# PostgreSQL bağlantısı oluştur\n",
    "conn = psycopg2.connect(\n",
    "    dbname=\"mapit\",\n",
    "    user=\"postgres\",\n",
    "    password=\"password\",\n",
    "    host=\"localhost\",\n",
    "    port=\"5432\"\n",
    ")\n",
    "cursor = conn.cursor()\n",
    "\n",
    "# Tabloyu oluştur (eğer daha önce oluşturulmadıysa)\n",
    "create_table_query = \"\"\"\n",
    "CREATE TABLE IF NOT EXISTS satis (\n",
    "    id INT PRIMARY KEY,\n",
    "    magaza_kodu INT,\n",
    "    urun_adi TEXT,\n",
    "    urun_cesidi TEXT,\n",
    "    urun_segmenti TEXT,\n",
    "    adet INT,\n",
    "    satis_tutari_tl FLOAT,\n",
    "    yil INT,\n",
    "    ay INT\n",
    ");\n",
    "\"\"\"\n",
    "cursor.execute(create_table_query)\n",
    "conn.commit()\n",
    "\n",
    "# Verileri tabloya ekle\n",
    "for index, row in df.iterrows():\n",
    "    insert_query = sql.SQL(\"\"\"\n",
    "    INSERT INTO satis (id, magaza_kodu, urun_adi, urun_cesidi, urun_segmenti, adet, satis_tutari_tl, yil, ay)\n",
    "    VALUES (%s, %s, %s, %s, %s, %s, %s, %s, %s)\n",
    "    \"\"\")\n",
    "    cursor.execute(insert_query, (\n",
    "        row['id'], row['magaza_kodu'], row['urun_adi'], row['urun_cesidi'], row['urun_segmenti'],\n",
    "        row['adet'], row['satis_tutari_tl'], row['yil'], row['ay']\n",
    "    ))\n",
    "\n",
    "# Değişiklikleri kaydet ve bağlantıyı kapat\n",
    "conn.commit()\n",
    "cursor.close()\n",
    "conn.close()\n",
    "\n",
    "print(\"Satış tablosu PostgreSQL'e aktarıldı.\")"
   ]
  },
  {
   "cell_type": "code",
   "execution_count": null,
   "id": "ea4c3942-3d08-4f72-8e5e-1b3a60b5ddf4",
   "metadata": {},
   "outputs": [],
   "source": []
  }
 ],
 "metadata": {
  "kernelspec": {
   "display_name": "Python 3 (ipykernel)",
   "language": "python",
   "name": "python3"
  },
  "language_info": {
   "codemirror_mode": {
    "name": "ipython",
    "version": 3
   },
   "file_extension": ".py",
   "mimetype": "text/x-python",
   "name": "python",
   "nbconvert_exporter": "python",
   "pygments_lexer": "ipython3",
   "version": "3.12.3"
  }
 },
 "nbformat": 4,
 "nbformat_minor": 5
}
